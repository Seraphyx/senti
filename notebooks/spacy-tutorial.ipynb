{
 "cells": [
  {
   "cell_type": "markdown",
   "metadata": {},
   "source": [
    "# Spacy\n",
    "Exploring the capabilities of Spacy. \n",
    "\n",
    "**Note:** *If files are not included in the PATH then overwrite.*"
   ]
  },
  {
   "cell_type": "code",
   "execution_count": 1,
   "metadata": {},
   "outputs": [
    {
     "name": "stdout",
     "output_type": "stream",
     "text": [
      "Loading Model\n",
      "Loading Text\n",
      "But Google is starting from behind. The company made a late push\n",
      "into hardware, and Apple’s Siri, available on iPhones, and Amazon’s Alexa\n",
      "software, which runs on its Echo and Dot devices, have clear leads in\n",
      "consumer adoption.\n",
      "Displaying Entities\n",
      "Displaying Similarity\n"
     ]
    },
    {
     "data": {
      "text/plain": [
       "0.77916624700160841"
      ]
     },
     "execution_count": 1,
     "metadata": {},
     "output_type": "execute_result"
    }
   ],
   "source": [
    "import os\n",
    "import sys\n",
    "module_path = os.path.abspath(os.path.join('..'))\n",
    "if module_path not in sys.path:\n",
    "    sys.path.append(module_path)\n",
    "    \n",
    "# Install: pip install spacy && python -m spacy download en\n",
    "import spacy\n",
    "from spacy import displacy\n",
    "\n",
    "# Load English tokenizer, tagger, parser, NER and word vectors\n",
    "print(\"Loading Model\")\n",
    "nlp = spacy.load('en_vectors_web_lg')\n",
    "\n",
    "# Process a document, of any size\n",
    "# text = open('war_and_peace.txt').read()\n",
    "print(\"Loading Text\")\n",
    "text = \"\"\"But Google is starting from behind. The company made a late push\n",
    "into hardware, and Apple’s Siri, available on iPhones, and Amazon’s Alexa\n",
    "software, which runs on its Echo and Dot devices, have clear leads in\n",
    "consumer adoption.\"\"\"\n",
    "doc = nlp(text)\n",
    "print(doc)\n",
    "\n",
    "# Find named entities, phrases and concepts\n",
    "print(\"Displaying Entities\")\n",
    "for entity in doc.ents:\n",
    "    print(entity.text, entity.label_)\n",
    "\n",
    "# Determine semantic similarities\n",
    "print(\"Displaying Similarity\")\n",
    "doc1 = nlp(u'the fries were gross')\n",
    "doc2 = nlp(u'worst fries ever')\n",
    "doc1.similarity(doc2)\n",
    "\n",
    "# Hook in your own deep learning models\n",
    "# nlp.add_pipe(load_my_model(), before='parser')\n"
   ]
  },
  {
   "cell_type": "code",
   "execution_count": 2,
   "metadata": {},
   "outputs": [
    {
     "name": "stdout",
     "output_type": "stream",
     "text": [
      "\n",
      "\u001b[93m    Serving on port 5000...\u001b[0m\n",
      "    Using the 'ent' visualizer\n",
      "\n"
     ]
    },
    {
     "name": "stderr",
     "output_type": "stream",
     "text": [
      "172.17.0.1 - - [12/Nov/2017 05:10:19] \"GET / HTTP/1.1\" 200 4108\n",
      "172.17.0.1 - - [12/Nov/2017 05:10:19] \"GET /favicon.ico HTTP/1.1\" 200 4108\n"
     ]
    },
    {
     "name": "stdout",
     "output_type": "stream",
     "text": [
      "\n",
      "    Shutting down server on port 5000.\n",
      "\n"
     ]
    }
   ],
   "source": [
    "\n",
    "text = \"\"\"But Google is starting from behind. The company made a late push\n",
    "into hardware, and Apple’s Siri, available on iPhones, and Amazon’s Alexa\n",
    "software, which runs on its Echo and Dot devices, have clear leads in\n",
    "consumer adoption.\"\"\"\n",
    "\n",
    "doc = nlp(text)\n"
   ]
  },
  {
   "cell_type": "code",
   "execution_count": null,
   "metadata": {},
   "outputs": [],
   "source": []
  }
 ],
 "metadata": {
  "kernelspec": {
   "display_name": "Python 3",
   "language": "python",
   "name": "python3"
  },
  "language_info": {
   "codemirror_mode": {
    "name": "ipython",
    "version": 3
   },
   "file_extension": ".py",
   "mimetype": "text/x-python",
   "name": "python",
   "nbconvert_exporter": "python",
   "pygments_lexer": "ipython3",
   "version": "3.6.3"
  }
 },
 "nbformat": 4,
 "nbformat_minor": 2
}
